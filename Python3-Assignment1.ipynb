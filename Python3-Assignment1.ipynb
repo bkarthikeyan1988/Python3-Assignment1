{
 "cells": [
  {
   "cell_type": "markdown",
   "metadata": {},
   "source": [
    "Write a Python Program to implement your own myreduce() function which works exactly\n",
    "like Python's built-in function reduce()"
   ]
  },
  {
   "cell_type": "code",
   "execution_count": 1,
   "metadata": {},
   "outputs": [
    {
     "name": "stdout",
     "output_type": "stream",
     "text": [
      "12\n"
     ]
    }
   ],
   "source": [
    "reduceValue = input(\"Enter the Value: \")\n",
    "list = input(\"Enter the list sequence seperated by Commas: \")\n",
    "listValues = list.split(\",\")\n",
    "for values in listValues:\n",
    "    reduceValue = int(reduceValue) * int(values)\n",
    "    output = reduceValue\n",
    "print(output)"
   ]
  },
  {
   "cell_type": "markdown",
   "metadata": {},
   "source": [
    "Write a Python program to implement your own myfilter() function which works exactly\n",
    "like Python's built-in function filter()"
   ]
  },
  {
   "cell_type": "code",
   "execution_count": 1,
   "metadata": {},
   "outputs": [
    {
     "name": "stdout",
     "output_type": "stream",
     "text": [
      "The Input Values are:\n",
      "['k', 'a', 'r', 't', 'h', 'i', 'k', 'e', 'y', 'a', 'n']\n",
      "The filtered vowels are:\n",
      "a\n",
      "i\n",
      "e\n",
      "a\n"
     ]
    }
   ],
   "source": [
    "data = input(\"Please enter comma seprated numbers values : \")\n",
    "alphabets = data.split(\",\")\n",
    "\n",
    "print('The Input Values are:')\n",
    "print(alphabets)\n",
    "\n",
    "def filterVowels(alphabet):\n",
    "    vowels = ['a', 'e', 'i', 'o', 'u']\n",
    "\n",
    "    if(alphabet in vowels):\n",
    "        return True\n",
    "    else:\n",
    "        return False\n",
    "\n",
    "filteredVowels = filter(filterVowels, alphabets)\n",
    "\n",
    "print('The filtered vowels are:')\n",
    "for vowel in filteredVowels:\n",
    "    print(vowel)"
   ]
  }
 ],
 "metadata": {
  "kernelspec": {
   "display_name": "Python 3",
   "language": "python",
   "name": "python3"
  },
  "language_info": {
   "codemirror_mode": {
    "name": "ipython",
    "version": 3
   },
   "file_extension": ".py",
   "mimetype": "text/x-python",
   "name": "python",
   "nbconvert_exporter": "python",
   "pygments_lexer": "ipython3",
   "version": "3.6.4"
  }
 },
 "nbformat": 4,
 "nbformat_minor": 2
}
